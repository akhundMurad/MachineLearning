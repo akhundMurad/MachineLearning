{
  "nbformat": 4,
  "nbformat_minor": 0,
  "metadata": {
    "colab": {
      "provenance": [],
      "gpuType": "V100",
      "authorship_tag": "ABX9TyPC1oLfkgfUI+0f2dKX8SKK",
      "include_colab_link": true
    },
    "kernelspec": {
      "name": "python3",
      "display_name": "Python 3"
    },
    "language_info": {
      "name": "python"
    },
    "accelerator": "GPU"
  },
  "cells": [
    {
      "cell_type": "markdown",
      "metadata": {
        "id": "view-in-github",
        "colab_type": "text"
      },
      "source": [
        "<a href=\"https://colab.research.google.com/github/akhundMurad/MachineLearning/blob/main/practice/IMDBClassifier.ipynb\" target=\"_parent\"><img src=\"https://colab.research.google.com/assets/colab-badge.svg\" alt=\"Open In Colab\"/></a>"
      ]
    },
    {
      "cell_type": "markdown",
      "source": [
        "# IMDB reviews classifier. Binary classification."
      ],
      "metadata": {
        "id": "tcVll1-Tq-az"
      }
    },
    {
      "cell_type": "markdown",
      "source": [
        "## 1. Preparation."
      ],
      "metadata": {
        "id": "Ff_TAKg1rINb"
      }
    },
    {
      "cell_type": "markdown",
      "source": [
        "#### 1.1 Prepare dataset."
      ],
      "metadata": {
        "id": "SmRHsyhyrbPZ"
      }
    },
    {
      "cell_type": "code",
      "execution_count": 26,
      "metadata": {
        "id": "mvRURtv3q6IP"
      },
      "outputs": [],
      "source": [
        "from tensorflow.keras.datasets import imdb\n",
        "\n",
        "\n",
        "(train_data, train_labels), (test_data, test_labels) = imdb.load_data(num_words=10000)\n",
        "\n",
        "word_index = imdb.get_word_index()  # Word to index\n",
        "reverse_word_index = {index: word for index, word in word_index.items()}  # Index to word"
      ]
    },
    {
      "cell_type": "markdown",
      "source": [
        "#### 1.2 Convert input sequences into binary matrix."
      ],
      "metadata": {
        "id": "lYXWQiZTsFIe"
      }
    },
    {
      "cell_type": "code",
      "source": [
        "import numpy as np\n",
        "\n",
        "\n",
        "def vectorize_sequences(sequences, dimension=10000):\n",
        "    results = np.zeros(shape=(len(sequences), dimension))\n",
        "    for i, sequence in enumerate(sequences):\n",
        "        for j in sequence:\n",
        "            results[i, j] = 1.\n",
        "    return results\n",
        "\n",
        "\n",
        "x_train = vectorize_sequences(train_data)\n",
        "x_test = vectorize_sequences(test_data)\n",
        "y_train = np.asarray(train_labels).astype(\"float32\")\n",
        "y_test = np.asarray(test_labels).astype(\"float32\")"
      ],
      "metadata": {
        "id": "oh9iEq69sTSE"
      },
      "execution_count": 2,
      "outputs": []
    },
    {
      "cell_type": "markdown",
      "source": [
        "## 2. Model definition and training."
      ],
      "metadata": {
        "id": "pc9ZqQXYtiOw"
      }
    },
    {
      "cell_type": "markdown",
      "source": [
        "#### 2.1 Define model its architecture."
      ],
      "metadata": {
        "id": "BnTh5FF3t9VV"
      }
    },
    {
      "cell_type": "code",
      "source": [
        "from tensorflow import keras\n",
        "from tensorflow.keras import layers\n",
        "\n",
        "\n",
        "model = keras.Sequential(\n",
        "    [\n",
        "        layers.Dense(16, activation=\"relu\"),\n",
        "        layers.Dense(16, activation=\"relu\"),\n",
        "        layers.Dense(1, activation=\"sigmoid\"),\n",
        "    ]\n",
        ")"
      ],
      "metadata": {
        "id": "c85B3khKtkMK"
      },
      "execution_count": 9,
      "outputs": []
    },
    {
      "cell_type": "markdown",
      "source": [
        "#### 2.2 Compile the model."
      ],
      "metadata": {
        "id": "YumziJh8uXAw"
      }
    },
    {
      "cell_type": "code",
      "source": [
        "model.compile(\n",
        "    optimizer=\"rmsprop\",\n",
        "    loss=\"binary_crossentropy\",\n",
        "    metrics=[\"accuracy\"],\n",
        ")"
      ],
      "metadata": {
        "id": "i-CbJ-XRueBx"
      },
      "execution_count": 11,
      "outputs": []
    },
    {
      "cell_type": "markdown",
      "source": [
        "## 3. Test the solution."
      ],
      "metadata": {
        "id": "H2u2UVsDuqp9"
      }
    },
    {
      "cell_type": "markdown",
      "source": [
        "#### 3.1 Model training."
      ],
      "metadata": {
        "id": "FnuPWiA_uzIe"
      }
    },
    {
      "cell_type": "code",
      "source": [
        "x_val = x_train[:10000]\n",
        "partial_x_train = x_train[10000:]\n",
        "y_val = y_train[:10000]\n",
        "partial_y_train = y_train[10000:]\n",
        "\n",
        "history = model.fit(\n",
        "    partial_x_train,\n",
        "    partial_y_train,\n",
        "    epochs=20,\n",
        "    batch_size=512,\n",
        "    validation_data=(x_val, y_val)\n",
        ")"
      ],
      "metadata": {
        "colab": {
          "base_uri": "https://localhost:8080/"
        },
        "id": "Tm62QkPJuyFm",
        "outputId": "55b7acbc-c556-416c-ef47-a8c572582607"
      },
      "execution_count": 12,
      "outputs": [
        {
          "output_type": "stream",
          "name": "stdout",
          "text": [
            "Epoch 1/20\n",
            "30/30 [==============================] - 5s 75ms/step - loss: 0.5347 - accuracy: 0.7836 - val_loss: 0.4151 - val_accuracy: 0.8632\n",
            "Epoch 2/20\n",
            "30/30 [==============================] - 1s 29ms/step - loss: 0.3429 - accuracy: 0.8901 - val_loss: 0.3505 - val_accuracy: 0.8648\n",
            "Epoch 3/20\n",
            "30/30 [==============================] - 2s 52ms/step - loss: 0.2580 - accuracy: 0.9151 - val_loss: 0.3343 - val_accuracy: 0.8586\n",
            "Epoch 4/20\n",
            "30/30 [==============================] - 1s 25ms/step - loss: 0.2127 - accuracy: 0.9285 - val_loss: 0.2801 - val_accuracy: 0.8890\n",
            "Epoch 5/20\n",
            "30/30 [==============================] - 3s 96ms/step - loss: 0.1780 - accuracy: 0.9405 - val_loss: 0.2830 - val_accuracy: 0.8854\n",
            "Epoch 6/20\n",
            "30/30 [==============================] - 1s 30ms/step - loss: 0.1518 - accuracy: 0.9503 - val_loss: 0.2868 - val_accuracy: 0.8868\n",
            "Epoch 7/20\n",
            "30/30 [==============================] - 1s 31ms/step - loss: 0.1316 - accuracy: 0.9575 - val_loss: 0.3011 - val_accuracy: 0.8844\n",
            "Epoch 8/20\n",
            "30/30 [==============================] - 1s 28ms/step - loss: 0.1158 - accuracy: 0.9648 - val_loss: 0.3031 - val_accuracy: 0.8824\n",
            "Epoch 9/20\n",
            "30/30 [==============================] - 1s 29ms/step - loss: 0.0986 - accuracy: 0.9706 - val_loss: 0.3148 - val_accuracy: 0.8843\n",
            "Epoch 10/20\n",
            "30/30 [==============================] - 1s 49ms/step - loss: 0.0881 - accuracy: 0.9749 - val_loss: 0.3317 - val_accuracy: 0.8795\n",
            "Epoch 11/20\n",
            "30/30 [==============================] - 1s 49ms/step - loss: 0.0737 - accuracy: 0.9799 - val_loss: 0.3620 - val_accuracy: 0.8733\n",
            "Epoch 12/20\n",
            "30/30 [==============================] - 1s 47ms/step - loss: 0.0664 - accuracy: 0.9825 - val_loss: 0.3707 - val_accuracy: 0.8750\n",
            "Epoch 13/20\n",
            "30/30 [==============================] - 1s 25ms/step - loss: 0.0568 - accuracy: 0.9864 - val_loss: 0.4455 - val_accuracy: 0.8611\n",
            "Epoch 14/20\n",
            "30/30 [==============================] - 2s 64ms/step - loss: 0.0483 - accuracy: 0.9879 - val_loss: 0.4425 - val_accuracy: 0.8722\n",
            "Epoch 15/20\n",
            "30/30 [==============================] - 1s 50ms/step - loss: 0.0421 - accuracy: 0.9905 - val_loss: 0.4387 - val_accuracy: 0.8736\n",
            "Epoch 16/20\n",
            "30/30 [==============================] - 1s 49ms/step - loss: 0.0357 - accuracy: 0.9930 - val_loss: 0.4543 - val_accuracy: 0.8732\n",
            "Epoch 17/20\n",
            "30/30 [==============================] - 1s 47ms/step - loss: 0.0317 - accuracy: 0.9943 - val_loss: 0.4753 - val_accuracy: 0.8726\n",
            "Epoch 18/20\n",
            "30/30 [==============================] - 1s 47ms/step - loss: 0.0261 - accuracy: 0.9959 - val_loss: 0.5007 - val_accuracy: 0.8718\n",
            "Epoch 19/20\n",
            "30/30 [==============================] - 1s 49ms/step - loss: 0.0223 - accuracy: 0.9967 - val_loss: 0.5393 - val_accuracy: 0.8633\n",
            "Epoch 20/20\n",
            "30/30 [==============================] - 2s 52ms/step - loss: 0.0184 - accuracy: 0.9977 - val_loss: 0.5559 - val_accuracy: 0.8674\n"
          ]
        }
      ]
    },
    {
      "cell_type": "markdown",
      "source": [
        "#### 3.2 Loss on the train and validation steps."
      ],
      "metadata": {
        "id": "EESwLhOEvgc2"
      }
    },
    {
      "cell_type": "code",
      "source": [
        "import matplotlib.pyplot as plt\n",
        "\n",
        "\n",
        "history_dict = history.history\n",
        "loss_values = history_dict[\"loss\"]\n",
        "validation_loss_values = history_dict[\"val_loss\"]\n",
        "epochs = range(1, len(loss_values) + 1)\n",
        "\n",
        "plt.plot(epochs, loss_values, \"bo\", label=\"Loss on the training step\")\n",
        "plt.plot(epochs, validation_loss_values, \"b\", label=\"Loss on the validation step\")\n",
        "plt.title(\"Loss on the train and validation steps\")\n",
        "plt.xlabel(\"Epochs\")\n",
        "plt.ylabel(\"Loss\")\n",
        "plt.legend()\n",
        "plt.show()"
      ],
      "metadata": {
        "colab": {
          "base_uri": "https://localhost:8080/",
          "height": 472
        },
        "id": "fp6JlVSIvpCG",
        "outputId": "97b4131d-2359-486a-9d5b-f931870fb0d5"
      },
      "execution_count": 15,
      "outputs": [
        {
          "output_type": "display_data",
          "data": {
            "text/plain": [
              "<Figure size 640x480 with 1 Axes>"
            ],
            "image/png": "[encoded data removed]"
          },
          "metadata": {}
        }
      ]
    },
    {
      "cell_type": "markdown",
      "source": [
        "#### 3.3 Train the model from scratch."
      ],
      "metadata": {
        "id": "tAmui9bVxbiL"
      }
    },
    {
      "cell_type": "code",
      "source": [
        "model = keras.Sequential(\n",
        "    [\n",
        "        layers.Dense(16, activation=\"relu\"),\n",
        "        layers.Dense(16, activation=\"relu\"),\n",
        "        layers.Dense(1, activation=\"sigmoid\"),\n",
        "    ]\n",
        ")\n",
        "\n",
        "model.compile(\n",
        "   optimizer=\"rmsprop\",\n",
        "   loss=\"binary_crossentropy\",\n",
        "   metrics=[\"accuracy\"],\n",
        ")\n",
        "\n",
        "model.fit(x_train, y_train, epochs=4, batch_size=512)\n",
        "\n",
        "results = model.evaluate(x_test, y_test)\n",
        "results"
      ],
      "metadata": {
        "colab": {
          "base_uri": "https://localhost:8080/"
        },
        "id": "POrbUT6hxvJQ",
        "outputId": "d579b206-aa00-44a9-efb8-26e7c98760b1"
      },
      "execution_count": 17,
      "outputs": [
        {
          "output_type": "stream",
          "name": "stdout",
          "text": [
            "Epoch 1/4\n",
            "49/49 [==============================] - 2s 15ms/step - loss: 0.4842 - accuracy: 0.8005\n",
            "Epoch 2/4\n",
            "49/49 [==============================] - 1s 15ms/step - loss: 0.2865 - accuracy: 0.8979\n",
            "Epoch 3/4\n",
            "49/49 [==============================] - 1s 14ms/step - loss: 0.2224 - accuracy: 0.9196\n",
            "Epoch 4/4\n",
            "49/49 [==============================] - 1s 14ms/step - loss: 0.1882 - accuracy: 0.9324\n",
            "782/782 [==============================] - 3s 3ms/step - loss: 0.2932 - accuracy: 0.8822\n"
          ]
        },
        {
          "output_type": "execute_result",
          "data": {
            "text/plain": [
              "[0.2932341396808624, 0.8821600079536438]"
            ]
          },
          "metadata": {},
          "execution_count": 17
        }
      ]
    },
    {
      "cell_type": "markdown",
      "source": [
        "#### 3.4 Use trained network to predict on the new data."
      ],
      "metadata": {
        "id": "C7hnXp4my8GX"
      }
    },
    {
      "cell_type": "code",
      "source": [
        "import random\n",
        "\n",
        "filtered_words = list(\n",
        "    filter(\n",
        "        lambda word: word < 10000,\n",
        "        word_index.values()\n",
        "    )\n",
        ")\n",
        "review_1 = random.choices(filtered_words, k=100)\n",
        "review_2 = random.choices(filtered_words, k=100)\n",
        "reviews = vectorize_sequences([review_1, review_2])\n",
        "\n",
        "model.predict(reviews)"
      ],
      "metadata": {
        "colab": {
          "base_uri": "https://localhost:8080/"
        },
        "id": "caZu8jaWzGBo",
        "outputId": "ad56b5e1-a74b-4399-a4c2-9e518d5deb6d"
      },
      "execution_count": 30,
      "outputs": [
        {
          "output_type": "stream",
          "name": "stdout",
          "text": [
            "1/1 [==============================] - 0s 217ms/step\n"
          ]
        },
        {
          "output_type": "execute_result",
          "data": {
            "text/plain": [
              "array([[0.6869568],\n",
              "       [0.4165167]], dtype=float32)"
            ]
          },
          "metadata": {},
          "execution_count": 30
        }
      ]
    }
  ]
}